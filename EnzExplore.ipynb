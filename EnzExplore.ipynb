{
 "cells": [
  {
   "cell_type": "code",
   "execution_count": 5,
   "metadata": {
    "collapsed": true
   },
   "outputs": [],
   "source": [
    "%matplotlib inline\n",
    "import numpy as np\n",
    "import scipy as sp\n",
    "import scipy.io as sio\n",
    "import pandas as pd\n",
    "import matplotlib.pyplot as plt"
   ]
  },
  {
   "cell_type": "code",
   "execution_count": 3,
   "metadata": {
    "collapsed": false
   },
   "outputs": [
    {
     "name": "stdout",
     "output_type": "stream",
     "text": [
      "DD.mat  ENZYMES.mat  ENZYMES_SYM.mat  MUTAG.mat  NCI109.mat  NCI1.mat  PTC.mat\r\n"
     ]
    }
   ],
   "source": [
    "ls Data/"
   ]
  },
  {
   "cell_type": "code",
   "execution_count": 7,
   "metadata": {
    "collapsed": false
   },
   "outputs": [],
   "source": [
    "data = sio.loadmat('Data/ENZYMES_SYM.mat')"
   ]
  },
  {
   "cell_type": "code",
   "execution_count": 8,
   "metadata": {
    "collapsed": false
   },
   "outputs": [
    {
     "data": {
      "text/plain": [
       "numpy.ndarray"
      ]
     },
     "execution_count": 8,
     "metadata": {},
     "output_type": "execute_result"
    }
   ],
   "source": [
    "type(data['ENZYMES'])"
   ]
  },
  {
   "cell_type": "code",
   "execution_count": 9,
   "metadata": {
    "collapsed": true
   },
   "outputs": [],
   "source": [
    "import networkx as nx"
   ]
  },
  {
   "cell_type": "code",
   "execution_count": 31,
   "metadata": {
    "collapsed": false
   },
   "outputs": [],
   "source": [
    "ams = (data['ENZYMES']['am'][0])"
   ]
  },
  {
   "cell_type": "code",
   "execution_count": 32,
   "metadata": {
    "collapsed": true
   },
   "outputs": [],
   "source": [
    "als = data['ENZYMES']['al'][0]"
   ]
  },
  {
   "cell_type": "code",
   "execution_count": 33,
   "metadata": {
    "collapsed": true
   },
   "outputs": [],
   "source": [
    "nls = data['ENZYMES']['nl'][0]"
   ]
  },
  {
   "cell_type": "code",
   "execution_count": 91,
   "metadata": {
    "collapsed": false
   },
   "outputs": [
    {
     "data": {
      "text/plain": [
       "array([  11.        ,   16.36293528,   40.38      ,   -2.03      ,\n",
       "          1.777     ,  102.6       ,    2.        ,    7.        ,\n",
       "          2.        ,    6.        ,    2.        ,    3.        ,\n",
       "          3.        ,    2.        ,    6.        ,    1.        ,\n",
       "          8.        ,    2.        ])"
      ]
     },
     "execution_count": 91,
     "metadata": {},
     "output_type": "execute_result"
    }
   ],
   "source": [
    "((nls[0]['vecvalues'][0][0][1]))"
   ]
  },
  {
   "cell_type": "code",
   "execution_count": 52,
   "metadata": {
    "collapsed": true
   },
   "outputs": [],
   "source": [
    "labels = data['lenzymes']"
   ]
  },
  {
   "cell_type": "code",
   "execution_count": 54,
   "metadata": {
    "collapsed": false
   },
   "outputs": [
    {
     "data": {
      "text/plain": [
       "(1, 600)"
      ]
     },
     "execution_count": 54,
     "metadata": {},
     "output_type": "execute_result"
    }
   ],
   "source": [
    "labels.shape"
   ]
  },
  {
   "cell_type": "code",
   "execution_count": 57,
   "metadata": {
    "collapsed": false
   },
   "outputs": [],
   "source": [
    "labels = labels[0]"
   ]
  },
  {
   "cell_type": "code",
   "execution_count": 133,
   "metadata": {
    "collapsed": false
   },
   "outputs": [],
   "source": [
    "set_labels = set(labels)\n",
    "set_labels = list(set_labels)\n",
    "set_labels.sort()"
   ]
  },
  {
   "cell_type": "code",
   "execution_count": 337,
   "metadata": {
    "collapsed": false
   },
   "outputs": [],
   "source": [
    "class Graph(object):\n",
    "    def __init__(self, am, al, vecvalues, value):\n",
    "        self.am = am\n",
    "        self.al = al\n",
    "        self.vecvals = vecvalues[0][0]\n",
    "        self.val = value[0][0]\n",
    "        self.size = self.am.shape[0]        \n",
    "        \n",
    "        # Computed attributes\n",
    "        self.lap = self.laplacian()\n",
    "        self.avgFeat = self.avgFeature()\n",
    "        self.avgDegs = self.computeAvgDeg()\n",
    "        self.degs = self.degDistr()\n",
    " \n",
    "    def computeAvgDeg(self):\n",
    "        avgDeg = 0\n",
    "        for row in self.am:\n",
    "            avgDeg += sum(row)\n",
    "        return avgDeg / float(self.size)\n",
    "    def degDistr(self):\n",
    "        distr = []\n",
    "        for row in self.am:\n",
    "            distr.append(np.sum(row))\n",
    "        return distr\n",
    "    \n",
    "    def laplacian(self):       \n",
    "        degs = np.diag(np.sum(self.am, axis=1))\n",
    "        self.lap = degs - self.am\n",
    "        return self.lap\n",
    "\n",
    "    def avgFeature(self):\n",
    "        avgFeat = np.mean(self.vecvals, axis=0)\n",
    "        return avgFeat"
   ]
  },
  {
   "cell_type": "code",
   "execution_count": 338,
   "metadata": {
    "collapsed": false
   },
   "outputs": [],
   "source": [
    "indices = {}\n",
    "graphs = {}\n",
    "for s in set_labels:\n",
    "    indices[s] = np.where(labels == s)[0]"
   ]
  },
  {
   "cell_type": "code",
   "execution_count": 339,
   "metadata": {
    "collapsed": false
   },
   "outputs": [],
   "source": [
    "for s in set_labels:\n",
    "    inds = indices[s]\n",
    "    graphs[s] = [Graph(ams[i], als[i], nls[i]['vecvalues'], nls[i]['values']) for i in inds] "
   ]
  },
  {
   "cell_type": "code",
   "execution_count": 340,
   "metadata": {
    "collapsed": true
   },
   "outputs": [],
   "source": [
    "# graphs is a map from label to graph object(holds adj matrix, adj list, vec values, discreate features)"
   ]
  },
  {
   "cell_type": "code",
   "execution_count": 341,
   "metadata": {
    "collapsed": false
   },
   "outputs": [],
   "source": [
    "# Compute kernel of just the feature vec dot products\n",
    "def genKernelMatrix(graphs):\n",
    "    n = len(graphs)\n",
    "    kernelMatrix = np.zeros((n, n))\n",
    "    for i in range(n):\n",
    "        for j in range(n):\n",
    "            kernelMatrix[i, j] = graphs[i]"
   ]
  },
  {
   "cell_type": "code",
   "execution_count": 342,
   "metadata": {
    "collapsed": false
   },
   "outputs": [
    {
     "name": "stdout",
     "output_type": "stream",
     "text": [
      "<class 'matplotlib.axes._subplots.AxesSubplot'>\n"
     ]
    },
    {
     "data": {
      "image/png": "[encoded data removed]",
      "text/plain": [
       "<matplotlib.figure.Figure at 0x7f6d77186ef0>"
      ]
     },
     "metadata": {},
     "output_type": "display_data"
    }
   ],
   "source": [
    "fig, axs = plt.subplots(1,6, figsize=(24, 4), facecolor='w', edgecolor='k', sharey=True)\n",
    "fig.subplots_adjust(hspace = .5, wspace=.001)\n",
    "axs = axs.ravel()\n",
    "print(type(axs[1]))\n",
    "for labl in set_labels:\n",
    "    axs[labl-1].hist([i.avgDegs for i in graphs[labl]], bins=20)\n",
    "    axs[labl-1].set_title('Avg Deg for label %d' %labl)"
   ]
  },
  {
   "cell_type": "code",
   "execution_count": 343,
   "metadata": {
    "collapsed": false
   },
   "outputs": [
    {
     "name": "stdout",
     "output_type": "stream",
     "text": [
      "Average degrees for graphs\n",
      "Label 1: 3.85\n",
      "Label 2: 3.79\n",
      "Label 3: 3.86\n",
      "Label 4: 3.99\n",
      "Label 5: 3.84\n",
      "Label 6: 3.84\n"
     ]
    }
   ],
   "source": [
    "print(\"Average degrees for graphs\")\n",
    "for labl in set_labels:\n",
    "    avgDegs = [i.avgDegs for i in graphs[labl]]\n",
    "    #print(\"Graphs with label %d: %0.2f with std: %0.2f\" %(labl, np.mean(avgDegs), np.std(avgDegs)))\n",
    "    print(\"Label %d: %0.2f\" %(labl, np.mean(avgDegs)))"
   ]
  },
  {
   "cell_type": "code",
   "execution_count": 344,
   "metadata": {
    "collapsed": true
   },
   "outputs": [],
   "source": [
    "# degree distribution\n",
    "for l in set_labels:\n",
    "    degrees = {}\n",
    "    for g in graphs[l]:\n",
    "        pass"
   ]
  },
  {
   "cell_type": "code",
   "execution_count": 345,
   "metadata": {
    "collapsed": false
   },
   "outputs": [
    {
     "data": {
      "image/png": "[encoded data removed]",
      "text/plain": [
       "<matplotlib.figure.Figure at 0x7f6d7752b390>"
      ]
     },
     "metadata": {},
     "output_type": "display_data"
    }
   ],
   "source": [
    "fig, axs = plt.subplots(1,6, figsize=(24, 4), facecolor='w', edgecolor='k', sharey=True)\n",
    "fig.subplots_adjust(hspace = .5, wspace=.001)\n",
    "axs = axs.ravel()\n",
    "\n",
    "for labl in set_labels:\n",
    "    degDistr = []\n",
    "    for g in graphs[labl]:\n",
    "        degDistr += g.degs\n",
    "    axs[labl-1].hist(degDistr, normed=True, bins=5)\n",
    "    axs[labl-1].set_title('Degree Distribution for label %d' %labl)"
   ]
  },
  {
   "cell_type": "code",
   "execution_count": 346,
   "metadata": {
    "collapsed": true
   },
   "outputs": [],
   "source": [
    "all_graphs = []\n",
    "for s in set_labels:\n",
    "    for g in graphs[s]:\n",
    "        all_graphs.append(g)\n",
    "        "
   ]
  },
  {
   "cell_type": "code",
   "execution_count": 347,
   "metadata": {
    "collapsed": false
   },
   "outputs": [
    {
     "name": "stdout",
     "output_type": "stream",
     "text": [
      "(29, 18)\n",
      "(29, 1)\n"
     ]
    }
   ],
   "source": [
    "print(all_graphs[0].vecvals.shape)\n",
    "print(all_graphs[0].val.shape)"
   ]
  },
  {
   "cell_type": "code",
   "execution_count": 412,
   "metadata": {
    "collapsed": false
   },
   "outputs": [],
   "source": [
    "# get kernel matrix on entire dataset!\n",
    "def kernelMatrix(graphs, kernelFunc=None, eps=1):\n",
    "    '''\n",
    "        feat = 'vec' or 'val' or 'avg'\n",
    "        kernelFunc = gaussian, dirac, linear, etc\n",
    "    '''\n",
    "    if kernelFunc is None:\n",
    "        kFunc = lambda x, y: np.dot(x.avgFeat, y.avgFeat)\n",
    "    elif kernelFunc == 'rbf':\n",
    "        kFunc = lambda x, y: np.exp(-np.square((np.linalg.norm(x.avgFeat - y.avgFeat))))/(eps**2)\n",
    "    else:\n",
    "        kFunc = lambda x, y: np.dot(x.avgFeat, y.avgFeat)\n",
    "                                    \n",
    "    kernel = np.zeros((600, 600))\n",
    "    for i in range(len(graphs)):\n",
    "        for j in range(len(graphs)):\n",
    "            kernel[i, j] = kFunc(graphs[i], graphs[j])\n",
    "    return kernel"
   ]
  },
  {
   "cell_type": "code",
   "execution_count": 413,
   "metadata": {
    "collapsed": false
   },
   "outputs": [],
   "source": [
    "k = kernelMatrix(all_graphs, kernelFunc='rbf', eps=0.1)"
   ]
  },
  {
   "cell_type": "code",
   "execution_count": 414,
   "metadata": {
    "collapsed": false
   },
   "outputs": [
    {
     "data": {
      "text/plain": [
       "<matplotlib.collections.PolyCollection at 0x7f6d4ddf0748>"
      ]
     },
     "execution_count": 414,
     "metadata": {},
     "output_type": "execute_result"
    },
    {
     "data": {
      "image/png": "[encoded data removed]",
      "text/plain": [
       "<matplotlib.figure.Figure at 0x7f6d4ddea128>"
      ]
     },
     "metadata": {},
     "output_type": "display_data"
    }
   ],
   "source": [
    "plt.pcolor(k)"
   ]
  },
  {
   "cell_type": "code",
   "execution_count": 415,
   "metadata": {
    "collapsed": false
   },
   "outputs": [
    {
     "data": {
      "text/plain": [
       "<matplotlib.collections.PolyCollection at 0x7f6d47baff60>"
      ]
     },
     "execution_count": 415,
     "metadata": {},
     "output_type": "execute_result"
    },
    {
     "data": {
      "image/png": "[encoded data removed]",
      "text/plain": [
       "<matplotlib.figure.Figure at 0x7f6d47bafef0>"
      ]
     },
     "metadata": {},
     "output_type": "display_data"
    }
   ],
   "source": [
    "normedK = k - np.mean(k)\n",
    "plt.pcolor(normedK)"
   ]
  },
  {
   "cell_type": "code",
   "execution_count": 417,
   "metadata": {
    "collapsed": false
   },
   "outputs": [
    {
     "data": {
      "text/plain": [
       "<matplotlib.collections.PolyCollection at 0x7f6d418e6940>"
      ]
     },
     "execution_count": 417,
     "metadata": {},
     "output_type": "execute_result"
    },
    {
     "data": {
      "image/png": "[encoded data removed]",
      "text/plain": [
       "<matplotlib.figure.Figure at 0x7f6d41919e48>"
      ]
     },
     "metadata": {},
     "output_type": "display_data"
    }
   ],
   "source": [
    "normedK = normedK/(np.max(np.max(k)) - np.min(np.min(k)))\n",
    "plt.pcolor(normedK)"
   ]
  },
  {
   "cell_type": "code",
   "execution_count": null,
   "metadata": {
    "collapsed": true
   },
   "outputs": [],
   "source": []
  }
 ],
 "metadata": {
  "kernelspec": {
   "display_name": "Python 3",
   "language": "python",
   "name": "python3"
  },
  "language_info": {
   "codemirror_mode": {
    "name": "ipython",
    "version": 3
   },
   "file_extension": ".py",
   "mimetype": "text/x-python",
   "name": "python",
   "nbconvert_exporter": "python",
   "pygments_lexer": "ipython3",
   "version": "3.4.0"
  }
 },
 "nbformat": 4,
 "nbformat_minor": 0
}
